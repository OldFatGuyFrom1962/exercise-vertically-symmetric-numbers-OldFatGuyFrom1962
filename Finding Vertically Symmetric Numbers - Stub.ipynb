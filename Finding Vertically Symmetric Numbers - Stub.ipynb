{
 "cells": [
  {
   "cell_type": "markdown",
   "metadata": {},
   "source": [
    "See the README for the full description of what we're doing. "
   ]
  },
  {
   "cell_type": "code",
   "execution_count": null,
   "metadata": {},
   "outputs": [],
   "source": [
    "# here are some constants to get you started\n",
    "number_length = 5\n",
    "numbers = []\n",
    "\n",
    "acceptable_digits = [\"0\",\"1\",\"8\",\"6\",\"9\"]\n",
    "acceptable_middle_digits = [\"0\",\"1\",\"8\"]\n",
    "# it's easier to work with digits as characters here\n",
    "# because you can just add them together. For instance...\n",
    "\n",
    "print([a + b for a in acceptable_digits for b in acceptable_digits])"
   ]
  },
  {
   "cell_type": "code",
   "execution_count": null,
   "metadata": {},
   "outputs": [],
   "source": [
    "print(len(numbers))"
   ]
  }
 ],
 "metadata": {
  "kernelspec": {
   "display_name": "Python 3",
   "language": "python",
   "name": "python3"
  },
  "language_info": {
   "codemirror_mode": {
    "name": "ipython",
    "version": 3
   },
   "file_extension": ".py",
   "mimetype": "text/x-python",
   "name": "python",
   "nbconvert_exporter": "python",
   "pygments_lexer": "ipython3",
   "version": "3.7.3"
  }
 },
 "nbformat": 4,
 "nbformat_minor": 4
}
