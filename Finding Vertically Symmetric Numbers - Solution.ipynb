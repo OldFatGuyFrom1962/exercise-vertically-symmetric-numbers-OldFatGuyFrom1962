{
 "cells": [
  {
   "cell_type": "markdown",
   "metadata": {},
   "source": [
    "See the README for the full description of what we're doing. "
   ]
  },
  {
   "cell_type": "code",
   "execution_count": 51,
   "metadata": {},
   "outputs": [],
   "source": [
    "number_length = 5\n",
    "\n",
    "acceptable_digits = [\"0\",\"1\",\"8\",\"6\",\"9\"]\n",
    "acceptable_middle_digits = [\"0\",\"1\",\"8\"]\n",
    "\n",
    "iterations = number_length//2\n",
    "\n",
    "if number_length % 2 == 1 :\n",
    "    numbers = acceptable_middle_digits\n",
    "else :\n",
    "    numbers = [\"\"]\n",
    "    \n",
    "for i in range(iterations) :\n",
    "    for digit in acceptable_digits : \n",
    "        if digit in [\"0\",\"1\",\"8\"] :\n",
    "            numbers.extend([digit + n + digit for n in numbers])\n",
    "        elif digit == \"6\" :\n",
    "            numbers.extend([\"6\" + n + \"9\" for n in numbers])\n",
    "        elif digit == \"9\" :\n",
    "            numbers.extend([\"9\" + n + \"6\" for n in numbers])\n",
    "        else :\n",
    "            print(f\"How'd you get here? Digit is {digit}\")\n",
    "\n",
    "            \n",
    "# This makes all lengths and has duplicates. Cut down to just the right length\n",
    "numbers = [n for n in numbers if len(n)==number_length]\n",
    "numbers = list(set(numbers))\n",
    "\n",
    "if number_length > 1 :\n",
    "    numbers = [n for n in numbers if n[0] != \"0\"]"
   ]
  },
  {
   "cell_type": "code",
   "execution_count": 52,
   "metadata": {},
   "outputs": [
    {
     "name": "stdout",
     "output_type": "stream",
     "text": [
      "60\n"
     ]
    }
   ],
   "source": [
    "print(len(numbers))"
   ]
  },
  {
   "cell_type": "markdown",
   "metadata": {},
   "source": [
    "Answers to the questions in the readme:\n",
    "\n",
    "| Number Length  | Number of Vertically Symmetrical Numbers  |\n",
    "|---|---|\n",
    "| 1  | 3  |\n",
    "| 2  | 4  |\n",
    "| 3  | 12  |\n",
    "| 5  | 60  |\n",
    "| 10 | 2500  |\n"
   ]
  }
 ],
 "metadata": {
  "kernelspec": {
   "display_name": "Python 3",
   "language": "python",
   "name": "python3"
  },
  "language_info": {
   "codemirror_mode": {
    "name": "ipython",
    "version": 3
   },
   "file_extension": ".py",
   "mimetype": "text/x-python",
   "name": "python",
   "nbconvert_exporter": "python",
   "pygments_lexer": "ipython3",
   "version": "3.7.3"
  }
 },
 "nbformat": 4,
 "nbformat_minor": 4
}
